{
 "cells": [
  {
   "cell_type": "markdown",
   "metadata": {},
   "source": [
    "**PySDS Week 01 Day 01 - Coding Practice**"
   ]
  },
  {
   "cell_type": "markdown",
   "metadata": {},
   "source": [
    "# Assignment 1. A few quick exercises and a sustained data cleaning example\n",
    " \n",
    "For this assignment you will be expected to debug the following statements and answer a few questions. These exercises are grouped by topic. You will then be expected to submit the assignment by \n",
    "\n",
    "~~~\n",
    "10am October 10th, 2018\n",
    "~~~\n",
    "\n",
    "That is to say, before tomorrow's class. The assignments will then be randomly shuffled to different members of the class. At 2pm, at the beginning of the tutorial, you will be able to view and comment on someone else's assignment. \n",
    "\n",
    "Peer grading is new at the OII, but it has been shown to be an effective approach to both learning about other people's code as well as keeping people engaged. Because it is peer graded, we will not expect you to give a specific mark. You will instead be asked: \n",
    "\n",
    "1. Does the code run as expected: Y / N \n",
    "2. If No, please note the lines. \n",
    "3. Do you think the code makes sense\n",
    "4. Does anything else stand out\n",
    "\n",
    "We will be doing this through Canvas. This is uncharted territory, but I think after a couple days it will be smooth sailing. \n",
    "\n",
    "Please be sure to name the file appropriately. "
   ]
  },
  {
   "cell_type": "markdown",
   "metadata": {},
   "source": [
    "## Part 1. Debugging Strings"
   ]
  },
  {
   "cell_type": "code",
   "execution_count": null,
   "metadata": {},
   "outputs": [],
   "source": [
    "# 1.1.1.  Printing a string 1.: \n",
    "\n",
    "print(\"The following statements should be identical. Do not edit the one in triple quotes.\")\n",
    "\n",
    "print('''Greetings Fellow \"Humans\"!!!\n",
    "Isn't it time for 'data science'?''')\n",
    "\n",
    "# Answer\n",
    "print(\"Greetings Fellow \\\"Humans\\\"!!!\\nIsn\\'t it time for \\'data science\\'?\")\n",
    "\n",
    "      \n",
    "      \n",
    "# Reviewer comments below here\n",
    "\n"
   ]
  },
  {
   "cell_type": "code",
   "execution_count": null,
   "metadata": {},
   "outputs": [],
   "source": [
    "# 1.1.2 Using whitespace characters.\n",
    "\n",
    "print(\"The following statements should be identical. Do not edit the one in triple quotes.\")\n",
    "print(\"It is okay to use spaces or tabs. It is not okay to use triple quotes.\")\n",
    "print()\n",
    "print('''A program without \n",
    "        a poem \n",
    "                is like a fish \n",
    "                                without a bicycle.''')\n",
    "\n",
    "# Answer:\n",
    "print(\"A program without a poem is like a fish without a bicycle.\")\n",
    "\n",
    "\n",
    "# Reviewer comments below here\n",
    "\n",
    "\n"
   ]
  },
  {
   "cell_type": "code",
   "execution_count": null,
   "metadata": {},
   "outputs": [],
   "source": [
    "Answer: print(\"A program without \\n\\ta poem \\n\\t\\tis like a fish \\n\\t\\t\\t\\twithout a bicycle.\")"
   ]
  },
  {
   "cell_type": "code",
   "execution_count": null,
   "metadata": {},
   "outputs": [],
   "source": [
    "# 1.1.3. Joining strings\n",
    "\n",
    "# Print the happy birthday song using your name and the variables below: \n",
    "\n",
    "v1 = \"Happy Birthday\"\n",
    "v2 = \"to you\"\n",
    "v3 = \"dear\"\n",
    "name = ...\n",
    "\n",
    "# Answer\n",
    "\n",
    "\n",
    "# Reviewer comments below here\n",
    "\n",
    "\n"
   ]
  },
  {
   "cell_type": "code",
   "execution_count": null,
   "metadata": {},
   "outputs": [],
   "source": [
    "name = \"Bernie\"\n",
    "# Solution 1.\n",
    "print(v1,v2,\"\\n\",v1,v2,\"\\n\",v1,v3,\"\\n\",name,v1,v2,\"\\n\") # Worst - using commas in the print command adds some ugly spaces\n",
    "\n",
    "# Solution 2. \n",
    "strout = v1 + \" \" + v2 + \"\\n\" + v1 + \" \" + v2 + \"\\n\" + v1 + \" \" + v3 + \" \" + name + \"\\n\" + v1 + \" \" + v2 + \"\\n\" \n",
    "print(strout)\n",
    "\n",
    "# Solution 3\n",
    "print ( \"%(v1)s %(v2)s\\n%(v1)s %(v2)s\\n%(v1)s %(v3)s %(name)s\\n%(v1)s %(v2)s\\n\" % {\"v1\":v1,\"v2\":v2,\"v3\":v3,\"name\":name}) # this uses string substitution\n"
   ]
  },
  {
   "cell_type": "markdown",
   "metadata": {},
   "source": [
    "## A Muppet-themed series of questions. \n",
    "\n",
    "The following questions are based around The Muppets. We will be shaping some data and asking some rudimentary questions of that data. "
   ]
  },
  {
   "cell_type": "code",
   "execution_count": null,
   "metadata": {},
   "outputs": [],
   "source": [
    "# 1.1.4 Replacing values \n",
    "\n",
    "# These data are a mess! They were supposed to be comma separated \n",
    "# Clean up the text so there are commas instead of tabs\n",
    "    \n",
    "MuppetInput = '''\n",
    "Name\tGender\tSpecies\tFirst Appearance\n",
    "Fozzie\tMale\tBear\t1976\n",
    "Kermit\tMale\tFrog\t1955\n",
    "Piggy\tFemale\tPig\t1974\n",
    "Gonzo\tMale\tUnknown\t1970\n",
    "Rowlf\tMale\tDog\t1962\n",
    "Beaker\tMale\tMuppet\t1977\n",
    "Janice\tFemale\tMuppet\t1975\n",
    "Hilda\tFemale\tMuppet\t1976\n",
    "'''\n",
    "\n",
    "MuppetOutput = ..."
   ]
  },
  {
   "cell_type": "code",
   "execution_count": null,
   "metadata": {},
   "outputs": [],
   "source": [
    "#Answer \n",
    "\n",
    "MuppetOutput = MuppetInput.replace(\"\\t\",\",\") # '\t' is more commonly represented by '\\t' - meaning 'tab'\n",
    "print(MuppetOutput)"
   ]
  },
  {
   "cell_type": "code",
   "execution_count": null,
   "metadata": {},
   "outputs": [],
   "source": [
    "# 1.1.5 Splitting strings into lists\n",
    "\n",
    "# Take the text in the previous exercise and split \n",
    "# it so that each line of text is now one element in a list.\n",
    "# Print the number of lines. Is it what you expected? \n",
    "# If not, look for ways to strip the whitespace before you split it. \n",
    "\n",
    "MuppetList = ..."
   ]
  },
  {
   "cell_type": "code",
   "execution_count": null,
   "metadata": {},
   "outputs": [],
   "source": [
    "# Answer \n",
    "\n",
    "MuppetList = MuppetOutput.strip().split(\"\\n\") # you can apply multiple methods in one line\n",
    "print(len(MuppetList))"
   ]
  },
  {
   "cell_type": "code",
   "execution_count": null,
   "metadata": {},
   "outputs": [],
   "source": [
    "# 1.1.6 Separating the header from the rest. \n",
    "\n",
    "# Take the list and then split it so that you have two lists\n",
    "# List one is only of length one, it's the header.\n",
    "# The other list is all the rest of the list. \n",
    "# Print the length of the data. It should be 8. \n",
    "MuppetHeader = ...\n",
    "MuppetData = ..."
   ]
  },
  {
   "cell_type": "code",
   "execution_count": null,
   "metadata": {},
   "outputs": [],
   "source": [
    "# Answer\n",
    "MuppetHeader = [MuppetList[0]] # MuppetList[0] is just an element of a list. Put square brackets around it to put it in a list\n",
    "MuppetData = MuppetList[1:] # list slice\n",
    "print(MuppetHeader)\n",
    "print(MuppetData)\n",
    "print(len((MuppetData)))"
   ]
  },
  {
   "cell_type": "code",
   "execution_count": null,
   "metadata": {},
   "outputs": [],
   "source": [
    "# 1.1.7 Creating a dictionary with Muppet Names as keys: \n",
    "\n",
    "# Part 0. Create an empty dictionary called MuppetDict\n",
    "\n",
    "MuppetDict = {}\n",
    "\n",
    "# Part 1. \n",
    "# Take the first item of MuppetData, split it to that it is now a list with four items\n",
    "# Add this to MuppetDict with the name as the key and the three remaining items as the value.\n",
    "\n",
    "\n",
    "# Part 2. \n",
    "# Do part one for the remaining 7 items. \n",
    "\n",
    "\n"
   ]
  },
  {
   "cell_type": "code",
   "execution_count": null,
   "metadata": {},
   "outputs": [],
   "source": [
    "MuppetDict = {}\n",
    "for i in MuppetData: # for each line\n",
    "    j = i.split(\",\") # split on the commas -> list\n",
    "    MuppetDict[j[0]] = j[1:] # dict key is first element of new list, value is the remaining elements\n",
    "\n",
    "# or\n",
    "MuppetDict = {}\n",
    "ll = MuppetData[0].split(\",\")\n",
    "MuppetDict[ll[0]] = ll[1:]\n",
    "ll = MuppetData[1].split(\",\")\n",
    "MuppetDict[ll[0]] = ll[1:]\n",
    "ll = MuppetData[2].split(\",\")\n",
    "MuppetDict[ll[0]] = ll[1:]\n",
    "ll = MuppetData[3].split(\",\")\n",
    "MuppetDict[ll[0]] = ll[1:]\n",
    "ll = MuppetData[4].split(\",\")\n",
    "MuppetDict[ll[0]] = ll[1:]\n",
    "ll = MuppetData[5].split(\",\")\n",
    "MuppetDict[ll[0]] = ll[1:]\n",
    "ll = MuppetData[6].split(\",\")\n",
    "MuppetDict[ll[0]] = ll[1:]\n",
    "ll = MuppetData[7].split(\",\")\n",
    "MuppetDict[ll[0]] = ll[1:]\n",
    "\n",
    "print(MuppetDict)"
   ]
  },
  {
   "cell_type": "code",
   "execution_count": null,
   "metadata": {},
   "outputs": [],
   "source": [
    "# 1.1.8 Sorting\n",
    "\n",
    "# Using MuppetDict and the print statement below and answer the following questions\n",
    "# Which muppet appears first alphabetically by name?\n",
    "# When was that muppet's first appearance? \n",
    "# Hint: remember you can return the keys as a list\n",
    "\n",
    "#\n",
    "sortednames = list(MuppetDict.keys()) # get the list of keys\n",
    "sortednames.sort() # sort in place\n",
    "FirstMuppet = sortednames[0] # return the first item\n",
    "print(\"The muppet that appears first alphabetically is %s and their first appearance was %s\" % (FirstMuppet, MuppetDict[FirstMuppet][2])) # print output using string substitution\n",
    "\n",
    "# or use 'sorted()' with some indexing to write all in one line\n",
    "print(\"The muppet that appears first alphabetically is %s and their first appearance was %s\" % (sorted(MuppetDict.items())[0][0],sorted(MuppetDict.items())[0][1][2])) "
   ]
  },
  {
   "cell_type": "code",
   "execution_count": null,
   "metadata": {},
   "outputs": [],
   "source": []
  }
 ],
 "metadata": {
  "kernelspec": {
   "display_name": "Python 3",
   "language": "python",
   "name": "python3"
  },
  "language_info": {
   "codemirror_mode": {
    "name": "ipython",
    "version": 3
   },
   "file_extension": ".py",
   "mimetype": "text/x-python",
   "name": "python",
   "nbconvert_exporter": "python",
   "pygments_lexer": "ipython3",
   "version": "3.7.0"
  }
 },
 "nbformat": 4,
 "nbformat_minor": 2
}
